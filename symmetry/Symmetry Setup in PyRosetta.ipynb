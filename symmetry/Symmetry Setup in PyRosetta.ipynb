{
 "cells": [
  {
   "cell_type": "markdown",
   "metadata": {},
   "source": [
    "##This Runs on the older Pyrosetta bindings\n",
    "---\n",
    "---\n",
    "\n",
    "## Running Symmetry without Perl !!!!!! Gasp!!!! Sacrilege!!!!!\n",
    "\n",
    "In order for Rosetta to model a symmetric protein and make use of the fancy time saving machinery it has, one must use the perl script written by Frank.... Some call it black magic, others call it a black box.\n",
    "\n",
    "A while back, thanks to Javier's efforts, he encoded some stuff so that you could *auto* detect Cn symmetries as a mover! This is awesome... but sometimes, for some proteins it just doesnt' work. Much of this code is to his credit though. The C++ dies on some proteins though, it has reasonable, hard coded cutoffs that just don't work for all proteins.\n",
    "\n",
    "This is an implementation a la Pyrosetta that will allow a researcher to simply upload a protein (which may have Cn) symmetry and after some math, will be able to call symmetric movers, score with symmetric scorefunctions and do sweet symmetry stuff.\n",
    "\n",
    "Note: This currently will not work for Dn symmetries (Until Stephanie figures that out ;) )\n",
    "\n",
    "Imagine you have a protein (say KIVD- who works on those anyways?) that has C2 symmetry and at the active site, there are catalytic residues from both chains. Suppose we wanted to design on a related sequence that doesn't have a crystal structures, then we would need to build a homology model. Unfortunately, homology modeling already takes a tremendous amount of compute resources that when you double the size of the protein 541\\*2, it simply takes forever. \n",
    "\n",
    "Fortunately, the homology modeling code (Yifan & Frank) takes a symmetry definition file.... like the ones that come from Franks perl script (make_symm_def_file.pl). However, when you create 1 symmetry definition file, the symmetry is static!  Why is this a problem for us? Well, say I am creating a homology model of a relative of 2vbg, and there are 10 available templates. Each template might have a different way of interacting with at the interface and if I ran each template through Frank's perl script, I would get 10 different answers (slightly different).\n",
    "\n",
    "So, because in the future I think homology modeling of symmetric interfaces should be able to A) use mutiple templates and B) be able to sample these different orientations and symmetries at the same time, I wrote this notebook. \n",
    "\n",
    "In the near future, imagine modeling symmetric interfaces and sample different interface and symmetry perturbations at interfaces... It might help us make better models\n"
   ]
  },
  {
   "cell_type": "markdown",
   "metadata": {},
   "source": [
    "## Setup the Functions and Maths needed for symmetry\n",
    "This essentially is a copy of some of the code in src/numeric/xyzfunctions.hh\n",
    "\n",
    "There are no bindings for these because they are multi templates, ideally there would be bindings for all core types (and std types)"
   ]
  },
  {
   "cell_type": "markdown",
   "metadata": {},
   "source": [
    "The following set of functions take an xyzVector and calculates the projections onto different x, y and z axis\n",
    "\n",
    "Note: In order for Rosetta's symmetry machinery to work, it assumes the center of mass of the Pose is at the origin (0,0,0). See the symmetry documentation for more details, or compare what happens here with what happens when you run the perl script (load the input files and the files that are created to be ran in rosetta)"
   ]
  },
  {
   "cell_type": "code",
   "execution_count": 1,
   "metadata": {
    "collapsed": false
   },
   "outputs": [],
   "source": [
    "# This is needed for some builds\n",
    "from rosetta.protocols.rigid import *\n",
    "from rosetta.core.pose.symmetry import *\n",
    "from rosetta.numeric import *\n",
    "import rosetta.numeric as numeric\n",
    "\n",
    "## turns out i need some private inline functions\n",
    "#\tinline core::Real angle_with_x_axis_proj_y( xyzVector const & v) const { return numeric::dihedral_degrees(xyzVector(v[0],1,v[2]), xyzVector(0,1,0), xyzVector(0,0,0), xyzVector(1,0,0)); }\n",
    "def angle_with_x_axis_proj_y( some_xyzVector ):\n",
    "    return numeric.dihedral_degrees( numeric.xyzVector_double( some_xyzVector[0],1,some_xyzVector[2]), numeric.xyzVector_double(0,1,0), numeric.xyzVector_double( 0,0,0 ), numeric.xyzVector_double( 1,0,0 ) )\n",
    "\n",
    "def angle_with_y_axis_proj_x( some_xyzVector ):\n",
    "    return numeric.dihedral_degrees( numeric.xyzVector_double( 1,some_xyzVector[1],some_xyzVector[2]), numeric.xyzVector_double(1,0,0), numeric.xyzVector_double( 0,0,0 ), numeric.xyzVector_double( 0,1,0 ) )\n",
    "\n",
    "def angle_with_y_axis_proj_z( some_xyzVector ):\n",
    "    return numeric.dihedral_degrees( numeric.xyzVector_double( some_xyzVector[0],some_xyzVector[1],1), numeric.xyzVector_double(0,0,1), numeric.xyzVector_double( 0,0,0 ), numeric.xyzVector_double( 0,1,0 ) )\n",
    "\n",
    "def angle_with_z_axis_proj_y( some_xyzVector ):\n",
    "    return numeric.dihedral_degrees( numeric.xyzVector_double( some_xyzVector[0],1,some_xyzVector[2]), numeric.xyzVector_double(0,1,0), numeric.xyzVector_double( 0,0,0 ), numeric.xyzVector_double( 0,0,1 ) )\n"
   ]
  },
  {
   "cell_type": "markdown",
   "metadata": {},
   "source": [
    "This next section copies other code, again mostly for the reason that there are no python bindings that interface with the c++ code correctly.\n",
    "\n",
    "These create rotation matrices when you input a degree of rotation in degrees"
   ]
  },
  {
   "cell_type": "code",
   "execution_count": 2,
   "metadata": {
    "collapsed": false
   },
   "outputs": [
    {
     "name": "stdout",
     "output_type": "stream",
     "text": [
      "made mat\n",
      " 6.752605561399829E+112  6.946849665632721E-310  1.283039866190166E-316\n",
      "      0.000000000000000       0.000000000000000       0.000000000000000\n",
      "      0.000000000000000       0.000000000000000       0.000000000000000\n",
      "\n",
      "changed mat\n",
      "      1.000000000000000       0.000000000000000       0.000000000000000\n",
      "      0.000000000000000      -1.000000000000000  -1.224646799147353E-16\n",
      "      0.000000000000000   1.224646799147353E-16      -1.000000000000000\n",
      "\n",
      "<class 'rosetta.numeric._numeric_.xyzMatrix_Real'>\n"
     ]
    }
   ],
   "source": [
    "import math\n",
    "test = numeric.xyzMatrix_double()\n",
    "\n",
    "def x_rotation_matrix( theta ):\n",
    "    sin_theta = math.sin(theta)\n",
    "    cos_theta = math.cos(theta)\n",
    "    mat = numeric.xyzMatrix_double()\n",
    "    print \"made mat\"\n",
    "    print mat\n",
    "    \n",
    "    newmat = mat.rows( 1, 0, 0,\n",
    "            0, cos_theta, -sin_theta,\n",
    "             0, sin_theta, cos_theta\n",
    "            )\n",
    "    print \"changed mat\"\n",
    "    print newmat\n",
    "    return newmat\n",
    "    \n",
    "def x_rotation_matrix_degrees( theta ):\n",
    "    return x_rotation_matrix( math.radians(theta))\n",
    "\n",
    "def z_rotation_matrix( theta ):\n",
    "    sin_theta = math.sin(theta)\n",
    "    cos_theta = math.cos(theta)\n",
    "    mat = numeric.xyzMatrix_double()\n",
    "    print \"made mat\"\n",
    "    print mat\n",
    "    \n",
    "    newmat = mat.rows( cos_theta, -sin_theta, 0,\n",
    "            sin_theta, cos_theta, 0,\n",
    "             0, 0, 1\n",
    "            )\n",
    "    print \"changed mat\"\n",
    "    print newmat\n",
    "    return newmat\n",
    "    \n",
    "def z_rotation_matrix_degrees( theta ):\n",
    "    return z_rotation_matrix( math.radians(theta))\n",
    "\n",
    "def y_rotation_matrix( theta ):\n",
    "    sin_theta = math.sin(theta)\n",
    "    cos_theta = math.cos(theta)\n",
    "    mat = numeric.xyzMatrix_double()\n",
    "    print \"made mat\"\n",
    "    print mat\n",
    "    \n",
    "    newmat = mat.rows( cos_theta, 0 , sin_theta,\n",
    "            0, 1, 0,\n",
    "             -sin_theta, 0, cos_theta\n",
    "            )\n",
    "    print \"changed mat\"\n",
    "    print newmat\n",
    "    return newmat\n",
    "    \n",
    "def y_rotation_matrix_degrees( theta ):\n",
    "    return y_rotation_matrix( math.radians(theta))\n",
    "\n",
    "\n",
    "## This is an example\n",
    "f = x_rotation_matrix_degrees( 180 )\n",
    "print type(f)"
   ]
  },
  {
   "cell_type": "markdown",
   "metadata": {},
   "source": [
    "---\n",
    "---\n",
    "\n",
    "\n",
    "# Let's begin with rosetta\n",
    "\n",
    "I highly recommend that before you start, you also open Pymol & plot the xyz axes\n",
    "\n",
    "Once you can see the protein (see next few cells) be sure to clean up (cartoon and color by chain)"
   ]
  },
  {
   "cell_type": "code",
   "execution_count": 3,
   "metadata": {
    "collapsed": true
   },
   "outputs": [],
   "source": [
    "from rosetta import *"
   ]
  },
  {
   "cell_type": "code",
   "execution_count": 4,
   "metadata": {
    "collapsed": false
   },
   "outputs": [
    {
     "name": "stdout",
     "output_type": "stream",
     "text": [
      "PYROSETTA_DATABASE environment variable was set to: /home/steve/Pyrosetta_testing/Rosetta/main/source/build/PyRosetta/linux/namespace/debug/database; using it....\n",
      "PyRosetta 2014 [Rosetta 2014 unknown:a624fec6942d46d5c86620051caf250f27ea9ba1] retrieved from: \n",
      "(C) Copyright Rosetta Commons Member Institutions.\n",
      "Created in JHU by Sergey Lyskov and PyRosetta Team.\n",
      "\n",
      "\u001b[0mcore.init: \u001b[0mRosetta version  from \n",
      "\u001b[0mcore.init: \u001b[0mcommand: PyRosetta -ignore_unrecognized_res T -ignore_waters T -preserve_header T -database /home/steve/Pyrosetta_testing/Rosetta/main/source/build/PyRosetta/linux/namespace/debug/database\n",
      "\u001b[0mcore.init: \u001b[0m'RNG device' seed mode, using '/dev/urandom', seed=1968208516 seed_offset=0 real_seed=1968208516\n",
      "\u001b[0mcore.init.random: \u001b[0mRandomGenerator:init: Normal mode, seed=1968208516 RG_type=mt19937\n"
     ]
    }
   ],
   "source": [
    "rosetta.init('-ignore_unrecognized_res T -ignore_waters T -preserve_header T')"
   ]
  },
  {
   "cell_type": "code",
   "execution_count": 5,
   "metadata": {
    "collapsed": false
   },
   "outputs": [],
   "source": [
    "from sjb_util import tmalign"
   ]
  },
  {
   "cell_type": "code",
   "execution_count": 6,
   "metadata": {
    "collapsed": false,
    "scrolled": false
   },
   "outputs": [
    {
     "name": "stdout",
     "output_type": "stream",
     "text": [
      "\u001b[0mcore.chemical.ResidueTypeSet: \u001b[0mFinished initializing fa_standard residue type set.  Created 385 residue types\n",
      "\u001b[0mcore.chemical.ResidueTypeSet: \u001b[0mTotal time to initialize 3.57138 seconds.\n",
      "\u001b[0mcore.io.pose_from_sfr.PoseFromSFRBuilder: \u001b[0mPDB reader is ignoring atom  CD  in residue 172 A.  Pass flag -ignore_zero_occupancy false to change this behavior\n",
      "\u001b[0mcore.io.pose_from_sfr.PoseFromSFRBuilder: \u001b[0mPDB reader is ignoring atom  CE  in residue 172 A.  Pass flag -ignore_zero_occupancy false to change this behavior\n",
      "\u001b[0mcore.io.pose_from_sfr.PoseFromSFRBuilder: \u001b[0mPDB reader is ignoring atom  NZ  in residue 172 A.  Pass flag -ignore_zero_occupancy false to change this behavior\n",
      "\u001b[0mcore.io.pose_from_sfr.PoseFromSFRBuilder: \u001b[0mPDB reader is ignoring atom  CG  in residue 174 A.  Pass flag -ignore_zero_occupancy false to change this behavior\n",
      "\u001b[0mcore.io.pose_from_sfr.PoseFromSFRBuilder: \u001b[0mPDB reader is ignoring atom  CD  in residue 174 A.  Pass flag -ignore_zero_occupancy false to change this behavior\n",
      "\u001b[0mcore.io.pose_from_sfr.PoseFromSFRBuilder: \u001b[0mPDB reader is ignoring atom  OE1 in residue 174 A.  Pass flag -ignore_zero_occupancy false to change this behavior\n",
      "\u001b[0mcore.io.pose_from_sfr.PoseFromSFRBuilder: \u001b[0mPDB reader is ignoring atom  OE2 in residue 174 A.  Pass flag -ignore_zero_occupancy false to change this behavior\n",
      "\u001b[0mcore.io.pose_from_sfr.PoseFromSFRBuilder: \u001b[0mPDB reader is ignoring atom  CD  in residue 419 A.  Pass flag -ignore_zero_occupancy false to change this behavior\n",
      "\u001b[0mcore.io.pose_from_sfr.PoseFromSFRBuilder: \u001b[0mPDB reader is ignoring atom  CE  in residue 419 A.  Pass flag -ignore_zero_occupancy false to change this behavior\n",
      "\u001b[0mcore.io.pose_from_sfr.PoseFromSFRBuilder: \u001b[0mPDB reader is ignoring atom  NZ  in residue 419 A.  Pass flag -ignore_zero_occupancy false to change this behavior\n",
      "\u001b[0mcore.io.pose_from_sfr.PoseFromSFRBuilder: \u001b[0mPDB reader is ignoring atom  CD  in residue 316 B.  Pass flag -ignore_zero_occupancy false to change this behavior\n",
      "\u001b[0mcore.io.pose_from_sfr.PoseFromSFRBuilder: \u001b[0mPDB reader is ignoring atom  OE1 in residue 316 B.  Pass flag -ignore_zero_occupancy false to change this behavior\n",
      "\u001b[0mcore.io.pose_from_sfr.PoseFromSFRBuilder: \u001b[0mPDB reader is ignoring atom  OE2 in residue 316 B.  Pass flag -ignore_zero_occupancy false to change this behavior\n",
      "\u001b[0mcore.io.pose_from_sfr.PoseFromSFRBuilder: \u001b[0mPDB reader is ignoring atom  CD  in residue 419 B.  Pass flag -ignore_zero_occupancy false to change this behavior\n",
      "\u001b[0mcore.io.pose_from_sfr.PoseFromSFRBuilder: \u001b[0mPDB reader is ignoring atom  CE  in residue 419 B.  Pass flag -ignore_zero_occupancy false to change this behavior\n",
      "\u001b[0mcore.io.pose_from_sfr.PoseFromSFRBuilder: \u001b[0mPDB reader is ignoring atom  NZ  in residue 419 B.  Pass flag -ignore_zero_occupancy false to change this behavior\n",
      "\u001b[0mcore.conformation.Conformation: \u001b[0m[ WARNING ] missing heavyatom:  CD  on residue LYS 172\n",
      "\u001b[0mcore.conformation.Conformation: \u001b[0m[ WARNING ] missing heavyatom:  CE  on residue LYS 172\n",
      "\u001b[0mcore.conformation.Conformation: \u001b[0m[ WARNING ] missing heavyatom:  NZ  on residue LYS 172\n",
      "\u001b[0mcore.conformation.Conformation: \u001b[0m[ WARNING ] missing heavyatom:  CG  on residue GLU 174\n",
      "\u001b[0mcore.conformation.Conformation: \u001b[0m[ WARNING ] missing heavyatom:  CD  on residue GLU 174\n",
      "\u001b[0mcore.conformation.Conformation: \u001b[0m[ WARNING ] missing heavyatom:  OE1 on residue GLU 174\n",
      "\u001b[0mcore.conformation.Conformation: \u001b[0m[ WARNING ] missing heavyatom:  OE2 on residue GLU 174\n",
      "\u001b[0mcore.conformation.Conformation: \u001b[0m[ WARNING ] missing heavyatom:  OXT on residue GLU:CtermProteinFull 181\n",
      "\u001b[0mcore.conformation.Conformation: \u001b[0m[ WARNING ] missing heavyatom:  CD  on residue LYS 413\n",
      "\u001b[0mcore.conformation.Conformation: \u001b[0m[ WARNING ] missing heavyatom:  CE  on residue LYS 413\n",
      "\u001b[0mcore.conformation.Conformation: \u001b[0m[ WARNING ] missing heavyatom:  NZ  on residue LYS 413\n",
      "\u001b[0mcore.conformation.Conformation: \u001b[0m[ WARNING ] missing heavyatom:  OXT on residue LYS:CtermProteinFull 541\n",
      "\u001b[0mcore.conformation.Conformation: \u001b[0m[ WARNING ] missing heavyatom:  OXT on residue GLU:CtermProteinFull 722\n",
      "\u001b[0mcore.conformation.Conformation: \u001b[0m[ WARNING ] missing heavyatom:  CD  on residue GLU 851\n",
      "\u001b[0mcore.conformation.Conformation: \u001b[0m[ WARNING ] missing heavyatom:  OE1 on residue GLU 851\n",
      "\u001b[0mcore.conformation.Conformation: \u001b[0m[ WARNING ] missing heavyatom:  OE2 on residue GLU 851\n",
      "\u001b[0mcore.conformation.Conformation: \u001b[0m[ WARNING ] missing heavyatom:  CD  on residue LYS 954\n",
      "\u001b[0mcore.conformation.Conformation: \u001b[0m[ WARNING ] missing heavyatom:  CE  on residue LYS 954\n",
      "\u001b[0mcore.conformation.Conformation: \u001b[0m[ WARNING ] missing heavyatom:  NZ  on residue LYS 954\n",
      "\u001b[0mcore.conformation.Conformation: \u001b[0m[ WARNING ] missing heavyatom:  OXT on residue LYS:CtermProteinFull 1082\n",
      "\u001b[0mcore.pack.pack_missing_sidechains: \u001b[0mpacking residue number 172 because of missing atom number 7 atom name  CD \n",
      "\u001b[0mcore.pack.pack_missing_sidechains: \u001b[0mpacking residue number 174 because of missing atom number 6 atom name  CG \n",
      "\u001b[0mcore.pack.pack_missing_sidechains: \u001b[0mpacking residue number 413 because of missing atom number 7 atom name  CD \n",
      "\u001b[0mcore.pack.pack_missing_sidechains: \u001b[0mpacking residue number 851 because of missing atom number 7 atom name  CD \n",
      "\u001b[0mcore.pack.pack_missing_sidechains: \u001b[0mpacking residue number 954 because of missing atom number 7 atom name  CD \n",
      "\u001b[0mcore.pack.task: \u001b[0mPacker task: initialize from command line() \n",
      "\u001b[0mcore.scoring.ScoreFunctionFactory: \u001b[0mSCOREFUNCTION: \u001b[32mtalaris2013\u001b[0m\n",
      "\u001b[0mcore.scoring.etable: \u001b[0mStarting energy table calculation\n",
      "\u001b[0mcore.scoring.etable: \u001b[0msmooth_etable: changing atr/rep split to bottom of energy well\n",
      "\u001b[0mcore.scoring.etable: \u001b[0msmooth_etable: spline smoothing lj etables (maxdis = 6)\n",
      "\u001b[0mcore.scoring.etable: \u001b[0msmooth_etable: spline smoothing solvation etables (max_dis = 6)\n",
      "\u001b[0mcore.scoring.etable: \u001b[0mFinished calculating energy tables.\n",
      "\u001b[0mbasic.io.database: \u001b[0mDatabase file opened: scoring/score_functions/hbonds/sp2_elec_params/HBPoly1D.csv\n",
      "\u001b[0mbasic.io.database: \u001b[0mDatabase file opened: scoring/score_functions/hbonds/sp2_elec_params/HBFadeIntervals.csv\n",
      "\u001b[0mbasic.io.database: \u001b[0mDatabase file opened: scoring/score_functions/hbonds/sp2_elec_params/HBEval.csv\n",
      "\u001b[0mbasic.io.database: \u001b[0mDatabase file opened: scoring/score_functions/rama/Rama_smooth_dyn.dat_ss_6.4\n",
      "\u001b[0mbasic.io.database: \u001b[0mDatabase file opened: scoring/score_functions/P_AA_pp/P_AA\n",
      "\u001b[0mbasic.io.database: \u001b[0mDatabase file opened: scoring/score_functions/P_AA_pp/P_AA_n\n",
      "\u001b[0mbasic.io.database: \u001b[0mDatabase file opened: scoring/score_functions/P_AA_pp/P_AA_pp\n",
      "\u001b[0mcore.pack.dunbrack.RotamerLibrary: \u001b[0mUsing Dunbrack library binary file '/home/steve/Pyrosetta_testing/Rosetta/main/source/build/PyRosetta/linux/namespace/debug/database/rotamer/ExtendedOpt1-5/Dunbrack10.lib.bin'.\n",
      "\u001b[0mcore.pack.dunbrack.RotamerLibrary: \u001b[0mDunbrack 2010 library took 0.976899 seconds to load from binary\n",
      "\u001b[0mcore.pack.pack_rotamers: \u001b[0mbuilt 78 rotamers at 5 positions.\n",
      "\u001b[0mcore.pack.interaction_graph.interaction_graph_factory: \u001b[0mInstantiating DensePDInteractionGraph\n",
      "\u001b[0mcore.pack.interaction_graph.interaction_graph_factory: \u001b[0mIG: 3276 bytes\n",
      "\u001b[0mcore.pack.annealer.FixbbSimAnnealer: \u001b[0mpack_rotamers run final: KEKEK, best_energy: -0.635474\n",
      "\u001b[0mcore.scoring.ScoreFunctionFactory: \u001b[0mSCOREFUNCTION: \u001b[32mtalaris2013\u001b[0m\n"
     ]
    },
    {
     "data": {
      "text/plain": [
       "-706.5423798850721"
      ]
     },
     "execution_count": 6,
     "metadata": {},
     "output_type": "execute_result"
    }
   ],
   "source": [
    "# Read in a pose and setup the pymol observer, you have to score it to get it into pymol\n",
    "\n",
    "p = pose_from_file('2VBF_cleaned.pdb')\n",
    "pyobs = PyMOL_Observer() \n",
    "pyobs.add_observer(p) \n",
    "sfxn = get_fa_scorefxn()\n",
    "sfxn(p) \n"
   ]
  },
  {
   "cell_type": "markdown",
   "metadata": {},
   "source": [
    "Notice that the protein is not at the origin"
   ]
  },
  {
   "cell_type": "code",
   "execution_count": 7,
   "metadata": {
    "collapsed": false,
    "scrolled": true
   },
   "outputs": [
    {
     "name": "stdout",
     "output_type": "stream",
     "text": [
      "PDB file name: 2VBF_cleaned.pdb\n",
      "Total residues:1082\n",
      "Sequence: MYTVGDYLLDRLHELGIEEIFGVPGDYNLQFLDQIISREDMKWIGNANELNASYMADGYARTKKAAAFLTTFGVGELSAINGLAGSYAENLPVVEIVGSPTSKVQNDGKFVHHTLADGDFKHFMKMHEPVTAARTLLTAENATYEIDRVLSQLLKERKPVYINLPVDVAAAKAEKPALSLENTTEQVILSKIEESLKNAQKPVVIAGHEVISFGLEKTVTQFVSETKLPITTLNFGKSAVDESLPSFLGIYNGKLSEISLKNFVESADFILMLGVKLTDSSTGAFTHHLDENKMISLNIDEGIIFNKVVEDFDFRAVVSSLSELKGIEYEGQYIDKQYEEFIPSSAPLSQDRLWQAVESLTQSNETIVAEQGTSFFGASTIFLKSNSRFIGQPLWGSIGYTFPAALGSQIADKESRHLLFIGDGSLQLTVQELGLSIREKLNPICFIINNDGYTVEREIHGPTQSYNDIPMWNYSKLPETFGATEDRVVSKIVRTENEFVSVMKEAQADVNRMYWIELVLEKEDAPKLLKKMGKLFAEQNKMYTVGDYLLDRLHELGIEEIFGVPGDYNLQFLDQIISREDMKWIGNANELNASYMADGYARTKKAAAFLTTFGVGELSAINGLAGSYAENLPVVEIVGSPTSKVQNDGKFVHHTLADGDFKHFMKMHEPVTAARTLLTAENATYEIDRVLSQLLKERKPVYINLPVDVAAAKAEKPALSLENTTEQVILSKIEESLKNAQKPVVIAGHEVISFGLEKTVTQFVSETKLPITTLNFGKSAVDESLPSFLGIYNGKLSEISLKNFVESADFILMLGVKLTDSSTGAFTHHLDENKMISLNIDEGIIFNKVVEDFDFRAVVSSLSELKGIEYEGQYIDKQYEEFIPSSAPLSQDRLWQAVESLTQSNETIVAEQGTSFFGASTIFLKSNSRFIGQPLWGSIGYTFPAALGSQIADKESRHLLFIGDGSLQLTVQELGLSIREKLNPICFIINNDGYTVEREIHGPTQSYNDIPMWNYSKLPETFGATEDRVVSKIVRTENEFVSVMKEAQADVNRMYWIELVLEKEDAPKLLKKMGKLFAEQNK\n",
      "Fold tree:\n",
      "FOLD_TREE  EDGE 1 181 -1  EDGE 1 182 1  EDGE 182 541 -1  EDGE 1 542 2  EDGE 542 722 -1  EDGE 1 723 3  EDGE 723 1082 -1 \n",
      "[181, 541, 722, ]\n",
      "MYTVGDYLLDRLHELGIEEIFGVPGDYNLQFLDQIISREDMKWIGNANELNASYMADGYARTKKAAAFLTTFGVGELSAINGLAGSYAENLPVVEIVGSPTSKVQNDGKFVHHTLADGDFKHFMKMHEPVTAARTLLTAENATYEIDRVLSQLLKERKPVYINLPVDVAAAKAEKPALSLENTTEQVILSKIEESLKNAQKPVVIAGHEVISFGLEKTVTQFVSETKLPITTLNFGKSAVDESLPSFLGIYNGKLSEISLKNFVESADFILMLGVKLTDSSTGAFTHHLDENKMISLNIDEGIIFNKVVEDFDFRAVVSSLSELKGIEYEGQYIDKQYEEFIPSSAPLSQDRLWQAVESLTQSNETIVAEQGTSFFGASTIFLKSNSRFIGQPLWGSIGYTFPAALGSQIADKESRHLLFIGDGSLQLTVQELGLSIREKLNPICFIINNDGYTVEREIHGPTQSYNDIPMWNYSKLPETFGATEDRVVSKIVRTENEFVSVMKEAQADVNRMYWIELVLEKEDAPKLLKKMGKLFAEQNK\n",
      "[541, ]\n"
     ]
    }
   ],
   "source": [
    "## Take a look at your protein and the wierd chain endings\n",
    "print p\n",
    "print p.conformation().chain_endings()\n",
    "\n",
    "# Fix the weird chain endings (so that later, we can create a nice foldtree)\n",
    "p.update_pose_chains_from_pdb_chains()\n",
    "print p.chain_sequence(1)\n",
    "print p.conformation().chain_endings()"
   ]
  },
  {
   "cell_type": "code",
   "execution_count": 8,
   "metadata": {
    "collapsed": false
   },
   "outputs": [
    {
     "name": "stdout",
     "output_type": "stream",
     "text": [
      "541\n",
      "\u001b[0mcore.io.pose_from_sfr.PoseFromSFRBuilder: \u001b[0m[ WARNING ] discarding 1 atoms at position 181 in file . Best match rsd_type:  GLU\n",
      "\u001b[0mcore.io.pose_from_sfr.PoseFromSFRBuilder: \u001b[0m[ WARNING ] discarding 3 atoms at position 182 in file . Best match rsd_type:  ASN\n",
      "\u001b[0mcore.io.pose_from_sfr.PoseFromSFRBuilder: \u001b[0m[ WARNING ] can't find pose atom for file-residue 181 atom  OXT (trying to store temperature in PDBInfo)\n",
      "\u001b[0mcore.io.pose_from_sfr.PoseFromSFRBuilder: \u001b[0m[ WARNING ] can't find pose atom for file-residue 182 atom 1H   (trying to store temperature in PDBInfo)\n",
      "\u001b[0mcore.io.pose_from_sfr.PoseFromSFRBuilder: \u001b[0m[ WARNING ] can't find pose atom for file-residue 182 atom 2H   (trying to store temperature in PDBInfo)\n",
      "\u001b[0mcore.io.pose_from_sfr.PoseFromSFRBuilder: \u001b[0m[ WARNING ] can't find pose atom for file-residue 182 atom 3H   (trying to store temperature in PDBInfo)\n",
      "PDB file name: \n",
      "Total residues:541\n",
      "Sequence: MYTVGDYLLDRLHELGIEEIFGVPGDYNLQFLDQIISREDMKWIGNANELNASYMADGYARTKKAAAFLTTFGVGELSAINGLAGSYAENLPVVEIVGSPTSKVQNDGKFVHHTLADGDFKHFMKMHEPVTAARTLLTAENATYEIDRVLSQLLKERKPVYINLPVDVAAAKAEKPALSLENTTEQVILSKIEESLKNAQKPVVIAGHEVISFGLEKTVTQFVSETKLPITTLNFGKSAVDESLPSFLGIYNGKLSEISLKNFVESADFILMLGVKLTDSSTGAFTHHLDENKMISLNIDEGIIFNKVVEDFDFRAVVSSLSELKGIEYEGQYIDKQYEEFIPSSAPLSQDRLWQAVESLTQSNETIVAEQGTSFFGASTIFLKSNSRFIGQPLWGSIGYTFPAALGSQIADKESRHLLFIGDGSLQLTVQELGLSIREKLNPICFIINNDGYTVEREIHGPTQSYNDIPMWNYSKLPETFGATEDRVVSKIVRTENEFVSVMKEAQADVNRMYWIELVLEKEDAPKLLKKMGKLFAEQNK\n",
      "Fold tree:\n",
      "FOLD_TREE  EDGE 1 541 -1 \n"
     ]
    }
   ],
   "source": [
    "#### Now starts the pyrosetta implementation of DetectSymmetry:apply\n",
    "## We might be able to skip this if we can pull the data from the mmcif pdb file or if\n",
    "## we know a priori what kind of symmetry exists in the family of proteins we want to model\n",
    "n_jumps = p.num_jump()\n",
    "symmetric_type = n_jumps +1\n",
    "seq1 = p.chain_sequence(1)\n",
    "#pose made from chain A seq\n",
    "print len(seq1)\n",
    "new_pose = Pose(p, 1, len(seq1))\n",
    "print new_pose"
   ]
  },
  {
   "cell_type": "code",
   "execution_count": 9,
   "metadata": {
    "collapsed": false
   },
   "outputs": [
    {
     "name": "stdout",
     "output_type": "stream",
     "text": [
      "\u001b[0mcore.io.pose_from_sfr.PoseFromSFRBuilder: \u001b[0m[ WARNING ] discarding 1 atoms at position 181 in file . Best match rsd_type:  GLU\n",
      "\u001b[0mcore.io.pose_from_sfr.PoseFromSFRBuilder: \u001b[0m[ WARNING ] discarding 3 atoms at position 182 in file . Best match rsd_type:  ASN\n",
      "\u001b[0mcore.io.pose_from_sfr.PoseFromSFRBuilder: \u001b[0m[ WARNING ] can't find pose atom for file-residue 181 atom  OXT (trying to store temperature in PDBInfo)\n",
      "\u001b[0mcore.io.pose_from_sfr.PoseFromSFRBuilder: \u001b[0m[ WARNING ] can't find pose atom for file-residue 182 atom 1H   (trying to store temperature in PDBInfo)\n",
      "\u001b[0mcore.io.pose_from_sfr.PoseFromSFRBuilder: \u001b[0m[ WARNING ] can't find pose atom for file-residue 182 atom 2H   (trying to store temperature in PDBInfo)\n",
      "\u001b[0mcore.io.pose_from_sfr.PoseFromSFRBuilder: \u001b[0m[ WARNING ] can't find pose atom for file-residue 182 atom 3H   (trying to store temperature in PDBInfo)\n",
      "0.374408006668\n",
      "nan\n",
      "nan\n"
     ]
    }
   ],
   "source": [
    "## This goes through each of the subunits (different chains) and calculates the rms of the chain A\n",
    "## to chain X, this is to make sure all of the 'symmetric' chains are actually symmetric\n",
    "\n",
    "i = 1\n",
    "while i != symmetric_type:\n",
    "    #i +=1\n",
    "    if len(seq1) != len(p.chain_sequence(2)):\n",
    "        print \"Subunits have different length sequences\"\n",
    "    \n",
    "    test_pose = Pose(p, i*len(seq1)+1,(i+1)*len(seq1))\n",
    "    rms = core.scoring.CA_rmsd(new_pose,test_pose)\n",
    "    print rms\n",
    "    i +=1"
   ]
  },
  {
   "cell_type": "markdown",
   "metadata": {},
   "source": [
    "The next few cells first move the input protein to the origin (COM). But then the next few apply rotations that align the COM of each chain with the XY, XZ and YZ planes"
   ]
  },
  {
   "cell_type": "code",
   "execution_count": 10,
   "metadata": {
    "collapsed": false,
    "scrolled": true
   },
   "outputs": [
    {
     "name": "stdout",
     "output_type": "stream",
     "text": [
      "starting cm\n",
      "      22.55059149722738       100.9876136783734       17.64648706099815\n",
      "      1.000000000000000       0.000000000000000       0.000000000000000\n",
      "      0.000000000000000       1.000000000000000       0.000000000000000\n",
      "      0.000000000000000       0.000000000000000       1.000000000000000\n",
      "\n",
      "newcom\n",
      " -2.047899742576592E-14   7.538845292537846E-15   9.916076996282359E-16\n"
     ]
    }
   ],
   "source": [
    "### This first move moves the proteins COM to the origin (0,0,0)\n",
    "id_rot_mat = numeric.xyzMatrix_Real.identity()\n",
    "cm_pose = core.pose.center_of_mass(p,1,p.total_residue())\n",
    "print \"starting cm\"\n",
    "print cm_pose\n",
    "\n",
    "## So this is just applying the negative of the com to the pose (so a origin placement)\n",
    "p.apply_transform_Rx_plus_v(id_rot_mat, -1*cm_pose)\n",
    "print id_rot_mat\n",
    "#sfxn(p)\n",
    "print \"newcom\"\n",
    "newcom = core.pose.center_of_mass(p,1,p.total_residue())\n",
    "print newcom"
   ]
  },
  {
   "cell_type": "code",
   "execution_count": 11,
   "metadata": {
    "collapsed": false
   },
   "outputs": [
    {
     "name": "stdout",
     "output_type": "stream",
     "text": [
      "made mat\n",
      "      0.000000000000000       0.000000000000000       0.000000000000000\n",
      "      0.000000000000000       0.000000000000000       0.000000000000000\n",
      "      0.000000000000000       0.000000000000000  4.743030200075967E-322\n",
      "\n",
      "changed mat\n",
      "      1.000000000000000       0.000000000000000       0.000000000000000\n",
      "      0.000000000000000     -0.9907564650779119     -0.1356525963862112\n",
      "      0.000000000000000      0.1356525963862112     -0.9907564650779119\n",
      "\n",
      " -2.047899742576592E-14  -4.715061777040221E-15  -1.076977898933978E-15\n",
      "plane tolerance: \n",
      "-1.07697789893e-15\n",
      "pass plane check x\n"
     ]
    }
   ],
   "source": [
    "## align the com of chain A with Y axis\n",
    "#first, rotate around x to align com of chain A with xy plane\n",
    "cm_chain_A = core.pose.center_of_mass(p,1,len(seq1))\n",
    "angle_y1 = angle_with_y_axis_proj_x( cm_chain_A )\n",
    "x_rot = x_rotation_matrix_degrees( -1*angle_y1 )\n",
    "p.apply_transform_Rx_plus_v( x_rot, numeric.xyzVector_double(0,0,0))\n",
    "new_cm_chain_A = core.pose.center_of_mass(p,1,p.total_residue())\n",
    "print new_cm_chain_A\n",
    "print \"plane tolerance: \"\n",
    "print new_cm_chain_A[2]\n",
    "if (new_cm_chain_A[2] > -1*0.05) and (new_cm_chain_A[2] < .05):\n",
    "    print \"pass plane check x\"\n",
    "#sfxn(p)"
   ]
  },
  {
   "cell_type": "code",
   "execution_count": 12,
   "metadata": {
    "collapsed": false
   },
   "outputs": [
    {
     "name": "stdout",
     "output_type": "stream",
     "text": [
      "made mat\n",
      "      0.000000000000000       0.000000000000000       0.000000000000000\n",
      "      0.000000000000000       0.000000000000000       0.000000000000000\n",
      "      0.000000000000000       0.000000000000000  4.743030200075967E-322\n",
      "\n",
      "changed mat\n",
      "    -0.2243687965295555      0.9745043063752356       0.000000000000000\n",
      "    -0.9745043063752356     -0.2243687965295555       0.000000000000000\n",
      "      0.000000000000000       0.000000000000000       1.000000000000000\n",
      "\n",
      "-1.07697789893e-15\n",
      "pass plane check z\n"
     ]
    }
   ],
   "source": [
    " ## now rotat along Z axis   \n",
    "angle_y2 = angle_with_y_axis_proj_z(  new_cm_chain_A )\n",
    "z_rot = z_rotation_matrix_degrees( -1*angle_y2)\n",
    "p.apply_transform_Rx_plus_v( z_rot, numeric.xyzVector_double(0,0,0))\n",
    "new2_cm_chain_A = core.pose.center_of_mass(p,1,p.total_residue())\n",
    "print new2_cm_chain_A[2]\n",
    "if (new2_cm_chain_A[2] > -1*0.05) and (new2_cm_chain_A[2] < .05):\n",
    "    print \"pass plane check z\"\n"
   ]
  },
  {
   "cell_type": "markdown",
   "metadata": {},
   "source": [
    "Note now that the protein is centered over the origin, and has undergone some rotations\n",
    "\n",
    "This next cell is just a sanity check that the com of the chain B is also near 0"
   ]
  },
  {
   "cell_type": "code",
   "execution_count": 13,
   "metadata": {
    "collapsed": false
   },
   "outputs": [
    {
     "name": "stdout",
     "output_type": "stream",
     "text": [
      "Chain B\n",
      "-4.72819565386e-16\n"
     ]
    }
   ],
   "source": [
    "## now check the other chain's com\n",
    "i = 1\n",
    "cm_chain = rosetta.core.pose.center_of_mass(p, i*len(seq1)+1,(i+1)*len(seq1))\n",
    "print \"Chain B\"\n",
    "print cm_chain[2]"
   ]
  },
  {
   "cell_type": "code",
   "execution_count": 14,
   "metadata": {
    "collapsed": false,
    "scrolled": false
   },
   "outputs": [
    {
     "name": "stdout",
     "output_type": "stream",
     "text": [
      "      1.740234172849955      -7.256881989694905       2.412365276238608\n",
      "made mat\n",
      "      0.000000000000000       0.000000000000000       0.000000000000000\n",
      "      0.000000000000000       0.000000000000000       0.000000000000000\n",
      "      0.000000000000000       0.000000000000000  4.743030200075967E-322\n",
      "\n",
      "changed mat\n",
      "     0.8110029714872337       0.000000000000000     -0.5850420328821487\n",
      "      0.000000000000000       1.000000000000000       0.000000000000000\n",
      "     0.5850420328821487       0.000000000000000      0.8110029714872337\n",
      "\n",
      "35.8059594973\n",
      "     0.8110029714872337       0.000000000000000     -0.5850420328821487\n",
      "      0.000000000000000       1.000000000000000       0.000000000000000\n",
      "     0.5850420328821487       0.000000000000000      0.8110029714872337\n",
      "\n",
      "------------------------------\n",
      "This should be less than .001\n",
      "0.0\n",
      "This too \n",
      "-7.25688198969\n",
      "------------------------------\n",
      "      0.000000000000000      -7.256881989694905       2.974545545517254\n"
     ]
    }
   ],
   "source": [
    "## Now perform C2 check plus one last rotation\n",
    "vm = ( p.residue(1).xyz(\"CA\") + p.residue(len(seq1)+1).xyz(\"CA\"))/2\n",
    "print vm \n",
    "angle_z_axis = angle_with_z_axis_proj_y( vm )\n",
    "rot1 = y_rotation_matrix_degrees( -1*angle_z_axis )\n",
    "print angle_z_axis \n",
    "print rot1 \n",
    "print '-'*30\n",
    "p.apply_transform_Rx_plus_v( rot1, numeric.xyzVector_double(0,0,0))\n",
    "vm_new = ( p.residue(1).xyz(\"CA\") + p.residue(len(seq1)+1).xyz(\"CA\"))/2\n",
    "print \"This should be less than .001\"\n",
    "print vm_new[0]\n",
    "print \"This too \"\n",
    "print vm_new[1]\n",
    "\n",
    "print '-'*30\n",
    "print vm_new"
   ]
  },
  {
   "cell_type": "code",
   "execution_count": 15,
   "metadata": {
    "collapsed": false,
    "scrolled": true
   },
   "outputs": [
    {
     "name": "stdout",
     "output_type": "stream",
     "text": [
      "\u001b[0mcore.io.pose_from_sfr.PoseFromSFRBuilder: \u001b[0m[ WARNING ] discarding 1 atoms at position 181 in file . Best match rsd_type:  GLU\n",
      "\u001b[0mcore.io.pose_from_sfr.PoseFromSFRBuilder: \u001b[0m[ WARNING ] discarding 3 atoms at position 182 in file . Best match rsd_type:  ASN\n",
      "\u001b[0mcore.io.pose_from_sfr.PoseFromSFRBuilder: \u001b[0m[ WARNING ] can't find pose atom for file-residue 181 atom  OXT (trying to store temperature in PDBInfo)\n",
      "\u001b[0mcore.io.pose_from_sfr.PoseFromSFRBuilder: \u001b[0m[ WARNING ] can't find pose atom for file-residue 182 atom 1H   (trying to store temperature in PDBInfo)\n",
      "\u001b[0mcore.io.pose_from_sfr.PoseFromSFRBuilder: \u001b[0m[ WARNING ] can't find pose atom for file-residue 182 atom 2H   (trying to store temperature in PDBInfo)\n",
      "\u001b[0mcore.io.pose_from_sfr.PoseFromSFRBuilder: \u001b[0m[ WARNING ] can't find pose atom for file-residue 182 atom 3H   (trying to store temperature in PDBInfo)\n"
     ]
    }
   ],
   "source": [
    "# Now, since the protein is in the right place, we just make a copy of the chain A\n",
    "alignpose = Pose(p,1,len(seq1))"
   ]
  },
  {
   "cell_type": "code",
   "execution_count": 16,
   "metadata": {
    "collapsed": false
   },
   "outputs": [
    {
     "name": "stdout",
     "output_type": "stream",
     "text": [
      "\u001b[0mcore.conformation.symmetry.SymmData: \u001b[0mSetting weight of master jump ( jump-id=4 ) to 1.0 (was undefined)\n",
      "\u001b[0mcore.conformation.symmetry.SymmData: \u001b[0mSetting jump_group JGS: [master 4]  5:0 \n",
      "\u001b[0mcore.conformation.symmetry.SymmData: \u001b[0mSetting weight of master jump ( jump-id=1 ) to 1.0 (was undefined)\n",
      "\u001b[0mcore.conformation.symmetry.SymmData: \u001b[0mSetting jump_group JGSS: [master 1]  2:0 \n",
      "\u001b[0mcore.conformation.symmetry.SymmData: \u001b[0msymmetry name: C2\n",
      "\u001b[0mcore.conformation.symmetry.SymmData: \u001b[0mnumber of subunits: 2\n",
      "\u001b[0mcore.conformation.symmetry.SymmData: \u001b[0mnumber of interfaces: 1\n",
      "\u001b[0mcore.conformation.symmetry.SymmData: \u001b[0mscore subunit number: C1\n",
      "\u001b[0mcore.conformation.symmetry.SymmData: \u001b[0manchor the subunits at residue: COM\n",
      "\u001b[0mcore.conformation.symmetry.SymmData: \u001b[0m Virtual coordinate system C1\n",
      "\u001b[0mcore.conformation.symmetry.SymmData: \u001b[0mx: 0 0 1\n",
      "\u001b[0mcore.conformation.symmetry.SymmData: \u001b[0my: 0 1 0\n",
      "\u001b[0mcore.conformation.symmetry.SymmData: \u001b[0morigin: 0 0 0\n",
      "\u001b[0mcore.conformation.symmetry.SymmData: \u001b[0m Virtual coordinate system C2\n",
      "\u001b[0mcore.conformation.symmetry.SymmData: \u001b[0mx: 0 0 1\n",
      "\u001b[0mcore.conformation.symmetry.SymmData: \u001b[0my: 0 -1 0\n",
      "\u001b[0mcore.conformation.symmetry.SymmData: \u001b[0morigin: 0 0 0\n",
      "\u001b[0mcore.conformation.symmetry.SymmData: \u001b[0m Virtual coordinate system S1\n",
      "\u001b[0mcore.conformation.symmetry.SymmData: \u001b[0mx: 0 0 1\n",
      "\u001b[0mcore.conformation.symmetry.SymmData: \u001b[0my: 0 1 0\n",
      "\u001b[0mcore.conformation.symmetry.SymmData: \u001b[0morigin: 0 0 0\n",
      "\u001b[0mcore.conformation.symmetry.SymmData: \u001b[0m Virtual coordinate system S2\n",
      "\u001b[0mcore.conformation.symmetry.SymmData: \u001b[0mx: 0 0 1\n",
      "\u001b[0mcore.conformation.symmetry.SymmData: \u001b[0my: 0 -1 0\n",
      "\u001b[0mcore.conformation.symmetry.SymmData: \u001b[0morigin: 0 0 0\n",
      "\u001b[0mcore.conformation.symmetry.SymmData: \u001b[0mDof for jump: 4\n",
      "\u001b[0mcore.conformation.symmetry.SymmData: \u001b[0mx 1:0,0:0,0 n2c\n",
      "\u001b[0mcore.conformation.symmetry.SymmData: \u001b[0my 1:0,0:0,0 n2c\n",
      "\u001b[0mcore.conformation.symmetry.SymmData: \u001b[0mz 0:0,0:0,0 n2c\n",
      "\u001b[0mcore.conformation.symmetry.SymmData: \u001b[0mx_angle 1:0,0:0,0 n2c\n",
      "\u001b[0mcore.conformation.symmetry.SymmData: \u001b[0my_angle 1:0,0:0,0 n2c\n",
      "\u001b[0mcore.conformation.symmetry.SymmData: \u001b[0mz_angle 1:0,0:0,0 n2c\n",
      "\u001b[0mcore.conformation.symmetry.SymmData: \u001b[0mJump JC2 C1 C2\n",
      "\u001b[0mcore.conformation.symmetry.SymmData: \u001b[0mJump JS1 C1 S1\n",
      "\u001b[0mcore.conformation.symmetry.SymmData: \u001b[0mJump JS1S S1 SUBUNIT\n",
      "\u001b[0mcore.conformation.symmetry.SymmData: \u001b[0mJump JS2 C2 S2\n",
      "\u001b[0mcore.conformation.symmetry.SymmData: \u001b[0mJump JS2S S2 SUBUNIT\n",
      "\u001b[0mcore.conformation.symmetry.SymmData: \u001b[0mInclude subunit: 1 2\n",
      "\u001b[0mcore.conformation.symmetry.SymmData: \u001b[0mOutput subunit: 1 2\n",
      "\u001b[0mcore.conformation.symmetry.SymmData: \u001b[0mSlideType: RANDOM\n",
      "\u001b[0mcore.conformation.symmetry.SymmData: \u001b[0mSlideCriteriaType: CEN_DOCK_SCORE\n",
      "\u001b[0mcore.conformation.symmetry.SymmData: \u001b[0mSlideCriteriaVal: AUTOMATIC\n",
      "\u001b[0mcore.conformation.symmetry.SymmData: \u001b[0mSlideOrder: none\n",
      "\u001b[0mcore.conformation.symmetry.util: \u001b[0m=================== SYM FOLD TREE, jump notation: =symfixed= *indep* #symdof# jump[=follows] ========================\n",
      "C1(1083)\n",
      "|----=j3=---->C2(1085)----j5=4---->S2(1086)----j2=1---->602:Sub2A(542-1082)\n",
      "\\----#j4#---->S1(1084)----*j1*----->61:Sub1A(1-541)\n"
     ]
    }
   ],
   "source": [
    "# here, we read in the generic sym files in the Rosetta database\n",
    "# We can use ChainA and the symdef information to create a symmetric pose!\n",
    "from rosetta.basic import *\n",
    "from rosetta.core.conformation.symmetry import *\n",
    "\n",
    "c2_symm = 'C2_Z.sym'\n",
    "# the sym file is usually located at the below path\n",
    "#c2_symm = '~/Rosetta/main/database/symmetry/cyclic/C2_Z.sym'\n",
    "symdef = core.conformation.symmetry.SymmData()\n",
    "symdef.read_symmetry_data_from_file( c2_symm )\n",
    "\n",
    "#p = \n",
    "core.pose.symmetry.make_symmetric_pose( alignpose, symdef )\n",
    "p = alignpose"
   ]
  },
  {
   "cell_type": "markdown",
   "metadata": {},
   "source": [
    "##\n",
    "Wells, that's it!\n",
    "\n",
    "You should have seen a bunch of symmetry stuff flash on the screen\n",
    "We now have a pose inside of rosetta that is symmetric!!! And not an ounce of Perl was used!\n",
    "\n",
    "So we can do all the normal stuff like symmetric packing\n",
    "symmetric scoring, etc"
   ]
  },
  {
   "cell_type": "code",
   "execution_count": 17,
   "metadata": {
    "collapsed": false
   },
   "outputs": [],
   "source": [
    "import rosetta.core.conformation.symmetry\n",
    "import rosetta.core.pose.symmetry\n",
    "from rosetta.core.scoring.symmetry import *\n",
    "import rosetta.protocols.simple_moves.symmetry\n",
    "\n",
    "\n",
    "#print p\n",
    "symopts = rosetta.core.conformation.symmetry.SymmDataOptions()\n",
    "#rosetta.core.conformation.symmetry.SymmetryInfo()\n",
    "#So rosetta sees this as a symmetric pose\n",
    "rosetta.core.conformation.symmetry.is_symmetric(p.conformation())\n",
    "\n",
    "\n",
    "sym_sfxn = rosetta.core.scoring.symmetry.SymmetricScoreFunction()\n",
    "sym_packer = protocols.simple_moves.symmetry.SymPackRotamersMover( sym_sfxn )\n",
    "sym_min = protocols.simple_moves.symmetry.SymMinMover()\n",
    "mm = MoveMap()\n",
    "core.pose.symmetry.make_symmetric_movemap( p, mm)\n",
    "#sym_packer.apply(p)\n",
    "\n",
    "# But now how do I score it?\n",
    "# and do i need to turn other options on?\n",
    "#symopts.show()"
   ]
  },
  {
   "cell_type": "code",
   "execution_count": 18,
   "metadata": {
    "collapsed": false
   },
   "outputs": [
    {
     "name": "stdout",
     "output_type": "stream",
     "text": [
      "True\n"
     ]
    }
   ],
   "source": [
    "print rosetta.core.conformation.symmetry.is_symmetric(p.conformation())"
   ]
  },
  {
   "cell_type": "markdown",
   "metadata": {},
   "source": [
    "this pyrosetta lesson was brought to you by Steve Bertolani"
   ]
  }
 ],
 "metadata": {
  "anaconda-cloud": {},
  "kernelspec": {
   "display_name": "Python [default]",
   "language": "python",
   "name": "python2"
  },
  "language_info": {
   "codemirror_mode": {
    "name": "ipython",
    "version": 2
   },
   "file_extension": ".py",
   "mimetype": "text/x-python",
   "name": "python",
   "nbconvert_exporter": "python",
   "pygments_lexer": "ipython2",
   "version": "2.7.12"
  }
 },
 "nbformat": 4,
 "nbformat_minor": 0
}
