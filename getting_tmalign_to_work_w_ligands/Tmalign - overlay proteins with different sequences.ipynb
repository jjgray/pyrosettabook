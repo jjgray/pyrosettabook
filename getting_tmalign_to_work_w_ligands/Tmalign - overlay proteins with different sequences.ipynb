{
 "cells": [
  {
   "cell_type": "markdown",
   "metadata": {},
   "source": [
    "## Uses older PyRosetta bindings\n",
    "\n"
   ]
  },
  {
   "cell_type": "markdown",
   "metadata": {},
   "source": [
    "TMalign is an algorithm that can be used to find a matrix of best fit to overlay 2 proteins on one another. It has been encoded into Rosetta and here we use it to align 2 proteins that have different sequences\n",
    "\n",
    "Note: This does **not** move the ligands if there are any present!!!"
   ]
  },
  {
   "cell_type": "code",
   "execution_count": null,
   "metadata": {
    "collapsed": false
   },
   "outputs": [],
   "source": [
    "from rosetta import *\n",
    "rosetta.init()"
   ]
  },
  {
   "cell_type": "code",
   "execution_count": null,
   "metadata": {
    "collapsed": false
   },
   "outputs": [],
   "source": [
    "pose1 = pose_from_file('pose1.pdb')\n",
    "pose2 = pose_from_file('pose2.pdb')"
   ]
  },
  {
   "cell_type": "code",
   "execution_count": null,
   "metadata": {
    "collapsed": false
   },
   "outputs": [],
   "source": [
    "print pose1.residue(1).xyz('CA')\n",
    "print pose2.residue(1).xyz('CA')"
   ]
  },
  {
   "cell_type": "markdown",
   "metadata": {},
   "source": [
    "Trying to use the TMalign algorithm to do my superposition of fragments/proteins\n"
   ]
  },
  {
   "cell_type": "code",
   "execution_count": null,
   "metadata": {
    "collapsed": true
   },
   "outputs": [],
   "source": [
    "from rosetta.protocols import hybridization"
   ]
  },
  {
   "cell_type": "code",
   "execution_count": null,
   "metadata": {
    "collapsed": false
   },
   "outputs": [],
   "source": [
    "tm = hybridization.TMalign()\n",
    "tm.apply(pose1, pose2)       ### note, the proteins have not moved"
   ]
  },
  {
   "cell_type": "code",
   "execution_count": null,
   "metadata": {
    "collapsed": false,
    "scrolled": true
   },
   "outputs": [],
   "source": [
    "from rosetta.core.scoring import create_score_function\n",
    "sfxn = create_score_function('talaris2013')\n",
    "AddPyMolObserver(pose1, True)\n",
    "AddPyMolObserver(pose2, True)\n",
    "sfxn(pose1)\n",
    "sfxn(pose2)"
   ]
  },
  {
   "cell_type": "code",
   "execution_count": null,
   "metadata": {
    "collapsed": false
   },
   "outputs": [],
   "source": [
    "longest = max(pose1.n_residue()+1, pose2.n_residue()+1)\n",
    "print longest              # need to normalize by one of the lengths of the proteins\n",
    "shortest = min(pose1.n_residue()+1, pose2.n_residue()+1)\n",
    "print tm.TMscore(longest)  # yields tmscore of .957 ( or very similar in structure)"
   ]
  },
  {
   "cell_type": "code",
   "execution_count": null,
   "metadata": {
    "collapsed": false
   },
   "outputs": [],
   "source": [
    "# but the tmalign object doesn't actually move the pose....\n",
    "print pose1.residue(1).xyz('CA')\n",
    "print pose2.residue(1).xyz('CA')"
   ]
  },
  {
   "cell_type": "markdown",
   "metadata": {},
   "source": [
    "## Looking into the Rosetta code base"
   ]
  },
  {
   "cell_type": "markdown",
   "metadata": {},
   "source": [
    "From /src/protocols/hybridization/HybridizeProtocol.cc, lines 1439 to 1466\n",
    "demonstrates how to run tmalign and then do the partial threading to actually move the pose\n",
    "\n",
    "```c++\n",
    "// get tmalign sequence mapping\n",
    "\t\tTMalign tm_align;\n",
    "\t\tstd::string seq_pose, seq_ref, aligned;\n",
    "\t\tint reval = tm_align.apply(pose, ref_pose, residue_list, ref_residue_list);\n",
    "\t\tif ( reval != 0 ) continue;  // TO DO: remove this domain\n",
    "\n",
    "\t\ttm_align.alignment2AtomMap(pose, ref_pose, residue_list, ref_residue_list, n_mapped_residues, atom_map);\n",
    "\t\ttm_align.alignment2strings(seq_pose, seq_ref, aligned);\n",
    "\n",
    "\t\tusing namespace ObjexxFCL::format;\n",
    "\t\tSize norm_length = residue_list.size() < ref_residue_list.size() ? residue_list.size():ref_residue_list.size();\n",
    "\t\tTR << \"Align domain with TMscore of \" << F(8,3,tm_align.TMscore(norm_length)) << std::endl;\n",
    "\t\tTR << seq_pose << std::endl;\n",
    "\t\tTR << aligned << std::endl;\n",
    "\t\tTR << seq_ref << std::endl;\n",
    "\n",
    "\t\tif ( n_mapped_residues < 6 ) continue;  // TO DO: remove this domain\n",
    "\n",
    "\t\t// add in ligand residues\n",
    "\t\tfor ( core::Size i=last_protein_residue+1; i<=pose.total_residue(); ++i ) {\n",
    "\t\t\tcore::Size res_controlling_i = ligres_map[i];\n",
    "\t\t\tfor ( core::Size iloop=1; iloop<=domains[i_domain].num_loop(); ++iloop ) {\n",
    "\t\t\t\tif ( res_controlling_i < domains[i_domain][iloop].start() || res_controlling_i > domains[i_domain][iloop].stop() ) continue;\n",
    "\t\t\t\tresidue_list.push_back(i);\n",
    "\t\t\t}\n",
    "\t\t}\n",
    "\n",
    "\t\tpartial_align(pose, ref_pose, atom_map, residue_list, true, aln_cutoffs, min_coverage);\n",
    "        ```"
   ]
  },
  {
   "cell_type": "markdown",
   "metadata": {},
   "source": [
    "So I need to make run this method first:\n",
    "\n",
    "tm.alignment2AtomMap(pose, ref_pose, residue_list, ref_residue_list, n_mapped_residues, atom_map);\n",
    "\n",
    "which results below\n",
    "\n",
    "1413    core::id::AtomID_Map< core::id::AtomID > atom_map;\n",
    "\n",
    "1414    core::pose::initialize_atomid_map( atom_map, pose, core::id::BOGUS_ATOM_ID )"
   ]
  },
  {
   "cell_type": "code",
   "execution_count": null,
   "metadata": {
    "collapsed": true
   },
   "outputs": [],
   "source": [
    "from rosetta.core.id import AtomID_Map_T_core_id_AtomID_T\n",
    "atommap = AtomID_Map_T_core_id_AtomID_T()"
   ]
  },
  {
   "cell_type": "code",
   "execution_count": null,
   "metadata": {
    "collapsed": true
   },
   "outputs": [],
   "source": [
    "#rosetta.core.pose.initialize_atomid_map_AtomID?\n",
    "from rosetta.core.pose import initialize_atomid_map\n",
    "initialize_atomid_map( atommap, pose1 )"
   ]
  },
  {
   "cell_type": "code",
   "execution_count": null,
   "metadata": {
    "collapsed": false
   },
   "outputs": [],
   "source": [
    "pose1list = utility.vector1_Size()\n",
    "pose2list = utility.vector1_Size()\n",
    "for i in xrange(1,shortest):\n",
    "    pose1list.append(i)\n",
    "    pose2list.append(i)\n",
    "print type(pose1list)\n",
    "#print pose2list"
   ]
  },
  {
   "cell_type": "code",
   "execution_count": null,
   "metadata": {
    "collapsed": false,
    "scrolled": true
   },
   "outputs": [],
   "source": [
    "tm.alignment2AtomMap(pose1,pose2, atommap )"
   ]
  },
  {
   "cell_type": "code",
   "execution_count": null,
   "metadata": {
    "collapsed": false
   },
   "outputs": [],
   "source": [
    "aln_cutoff = rosetta.utility.vector1_Real()"
   ]
  },
  {
   "cell_type": "code",
   "execution_count": null,
   "metadata": {
    "collapsed": false
   },
   "outputs": [],
   "source": [
    "for i in [2,1.5,1.0,.5]:\n",
    "    aln_cutoff.append(i)"
   ]
  },
  {
   "cell_type": "code",
   "execution_count": null,
   "metadata": {
    "collapsed": false
   },
   "outputs": [],
   "source": [
    "min_coverage = .2"
   ]
  },
  {
   "cell_type": "code",
   "execution_count": null,
   "metadata": {
    "collapsed": false
   },
   "outputs": [],
   "source": [
    "rosetta.protocols.hybridization.partial_align(pose1,pose2, atommap, True, aln_cutoff, min_coverage)"
   ]
  },
  {
   "cell_type": "code",
   "execution_count": null,
   "metadata": {
    "collapsed": false,
    "scrolled": true
   },
   "outputs": [],
   "source": [
    "# check for movement\n",
    "print pose1.residue(1).xyz('CA')\n",
    "print pose2.residue(1).xyz('CA')\n",
    "sfxn(pose1)"
   ]
  },
  {
   "cell_type": "markdown",
   "metadata": {},
   "source": [
    "Now let's put that into a function so that we can use it!!!"
   ]
  },
  {
   "cell_type": "code",
   "execution_count": null,
   "metadata": {
    "collapsed": true
   },
   "outputs": [],
   "source": [
    "def tmalign( pose, ref_pose ):\n",
    "    \n",
    "    print 'Running tmalign on poses'\n",
    "    print 'Starting xyz coords for res1 CA pose and reference pose'\n",
    "    print pose.residue(1).xyz('CA')\n",
    "    print ref_pose.residue(1).xyz('CA')\n",
    "    \n",
    "    # construct the TMalign object\n",
    "    tm = rosetta.protocols.hybridization.TMalign()\n",
    "    tm.apply(pose, ref_pose)\n",
    "    longest = max(pose.n_residue()+1, ref_pose.n_residue()+1)\n",
    "    \n",
    "    print 'TMScore = %s ' %tm.TMscore(longest)\n",
    "    #print tm.TMscore(longest)\n",
    "    \n",
    "    # Now pull the atom mapping from tmalign\n",
    "    # tmalign makes it's own alignment so we use that to do the ''partial'' threading\n",
    "\n",
    "    # some setup for alignment2AtomMap method\n",
    "    atommap =  rosetta.core.id.AtomID_Map_T_core_id_AtomID_T()\n",
    "    rosetta.core.pose.initialize_atomid_map( atommap, pose )\n",
    "    tm.alignment2AtomMap( pose, ref_pose, atommap )\n",
    "    \n",
    "    # some setup for partial thread\n",
    "    aln_cutoff = rosetta.utility.vector1_Real()\n",
    "    for i in [2,1.5,1.0,.5]:\n",
    "        aln_cutoff.append(i)\n",
    "    min_coverage = .2\n",
    "    rosetta.protocols.hybridization.partial_align(pose1,pose2, atommap, True, aln_cutoff, min_coverage)\n",
    "    \n",
    "    print 'Hopefully these coordinates have changed, use the PyMolMover / Observer to watch in realtime'\n",
    "    print pose1.residue(1).xyz('CA')\n",
    "    print pose2.residue(1).xyz('CA')"
   ]
  }
 ],
 "metadata": {
  "anaconda-cloud": {},
  "kernelspec": {
   "display_name": "Python [default]",
   "language": "python",
   "name": "python2"
  },
  "language_info": {
   "codemirror_mode": {
    "name": "ipython",
    "version": 2
   },
   "file_extension": ".py",
   "mimetype": "text/x-python",
   "name": "python",
   "nbconvert_exporter": "python",
   "pygments_lexer": "ipython2",
   "version": "2.7.12"
  }
 },
 "nbformat": 4,
 "nbformat_minor": 0
}
